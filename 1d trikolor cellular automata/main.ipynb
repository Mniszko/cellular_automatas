{
 "cells": [
  {
   "cell_type": "code",
   "execution_count": 3,
   "metadata": {},
   "outputs": [],
   "source": [
    "import matplotlib.pyplot as plt\n",
    "import subprocess as sp\n",
    "import random as rn\n",
    "import numpy as np"
   ]
  },
  {
   "cell_type": "code",
   "execution_count": null,
   "metadata": {},
   "outputs": [],
   "source": [
    "for H in range(500):\n",
    "    width = '500'\n",
    "    #code = '0122101'\n",
    "    code = ''\n",
    "\n",
    "    for i in range(7):\n",
    "        code += str(rn.randint(0,2))\n",
    "    print(code)\n",
    "\n",
    "    sp.run(['./test', width, code])\n",
    "\n",
    "    lines = []\n",
    "    with open('matrix.txt','r') as File:\n",
    "        lines = File.readlines()\n",
    "    File.close()\n",
    "\n",
    "    fullbuff = []\n",
    "    newbuff = []\n",
    "    for i in lines:\n",
    "        for k in i:\n",
    "            if k != '\\t' and k != '\\n':\n",
    "                newbuff.append(float(k))\n",
    "        fullbuff.append(newbuff)\n",
    "        newbuff = []\n",
    "    fullbuff.pop(0)\n",
    "    fullbuff.pop(len(fullbuff)-1)\n",
    "\n",
    "\n",
    "    w = 7.195\n",
    "    h = 3.841\n",
    "    fig,ax = plt.subplots()\n",
    "    fig.set_size_inches(w,h)\n",
    "    im = ax.imshow(fullbuff,cmap='binary')\n",
    "    ax.axis('off')\n",
    "    plt.margins()\n",
    "\n",
    "    # do zrobienia argument parsing\n",
    "\n",
    "\n",
    "\n",
    "    fig.savefig('./graphics/'+code+'.png', bbox_inches='tight', pad_inches=0,dpi=1000)\n"
   ]
  },
  {
   "cell_type": "code",
   "execution_count": 5,
   "metadata": {},
   "outputs": [],
   "source": [
    "#randomizer:\n",
    "f = open(\"inst.txt\", \"w\")\n",
    "for i in range(400):\n",
    "    h = rn.randint(0,2)\n",
    "    f.write(str(h))\n",
    "    f.write('\\n')\n",
    "f.close()"
   ]
  },
  {
   "cell_type": "code",
   "execution_count": 8,
   "metadata": {},
   "outputs": [],
   "source": [
    "#init środek\n",
    "\n",
    "f = open('inst.txt','w')\n",
    "rng = 140\n",
    "inside = [0,1,0]\n",
    "stp = len(inside)\n",
    "for i in range(int(np.floor((rng-stp)/2))):\n",
    "    f.write('0')\n",
    "    f.write('\\n')\n",
    "for i in inside:\n",
    "    f.write(str(i))\n",
    "    f.write('\\n')\n",
    "for i in range(int(np.ceil((rng-stp)/2))):\n",
    "    f.write('0')\n",
    "    f.write('\\n')\n",
    "f.close()"
   ]
  },
  {
   "cell_type": "code",
   "execution_count": null,
   "metadata": {},
   "outputs": [],
   "source": []
  }
 ],
 "metadata": {
  "interpreter": {
   "hash": "767d51c1340bd893661ea55ea3124f6de3c7a262a8b4abca0554b478b1e2ff90"
  },
  "kernelspec": {
   "display_name": "Python 3.10.1 64-bit",
   "language": "python",
   "name": "python3"
  },
  "language_info": {
   "codemirror_mode": {
    "name": "ipython",
    "version": 3
   },
   "file_extension": ".py",
   "mimetype": "text/x-python",
   "name": "python",
   "nbconvert_exporter": "python",
   "pygments_lexer": "ipython3",
   "version": "3.10.2"
  },
  "orig_nbformat": 4
 },
 "nbformat": 4,
 "nbformat_minor": 2
}
